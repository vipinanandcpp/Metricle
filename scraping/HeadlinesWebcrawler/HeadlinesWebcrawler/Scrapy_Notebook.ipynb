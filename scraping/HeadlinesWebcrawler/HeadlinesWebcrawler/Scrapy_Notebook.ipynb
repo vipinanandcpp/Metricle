{
 "metadata": {
  "name": ""
 },
 "nbformat": 3,
 "nbformat_minor": 0,
 "worksheets": [
  {
   "cells": [
    {
     "cell_type": "code",
     "collapsed": false,
     "input": [
      "import justext\n",
      "import requests\n",
      "from pyquery import PyQuery as pq\n",
      "import re"
     ],
     "language": "python",
     "metadata": {},
     "outputs": [],
     "prompt_number": 2
    },
    {
     "cell_type": "code",
     "collapsed": false,
     "input": [
      "response = requests.get('http://www.fiercebiotech.com/news?page=828')\n",
      "pq_obj = pq(response.content)\n",
      "pq_obj = pq_obj('.panel-pane.pane-page-content')\n",
      "response_string = str(pq_obj)[0:re.search('<div class=\"item-list\">',str(pq_obj)).start()]\n",
      "paragraphs = justext.justext(response_string,justext.get_stoplist(\"English\"))"
     ],
     "language": "python",
     "metadata": {},
     "outputs": [],
     "prompt_number": 3
    },
    {
     "cell_type": "code",
     "collapsed": false,
     "input": [
      "for paragraph in paragraphs:\n",
      "    print paragraph.text+\"##########\" "
     ],
     "language": "python",
     "metadata": {},
     "outputs": [
      {
       "output_type": "stream",
       "stream": "stdout",
       "text": [
        "Sanofi touts whooping cough vaccine##########\n",
        "June 2, 2005##########\n",
        "Sanofi Pasteur is touting a new study of its whopping cough vaccine which shows it is safe and effective. Cases of whooping cough have been surging in the US, and Sanofi expects to get FDA approval for marketing the vaccine next month. The vaccine is already available in Canada. Sanofi says that Adacel is 83 percent effective in preventing whooping cough in adolescents and adults.##########\n",
        "- read this story from The Boston Globe##########\n",
        "Exelixis to collaborate with Genentech##########\n",
        "June 2, 2005##########\n",
        "Exelixis has inked a deal to collaborate with Genentech on new therapies for cancer, inflammatory diseases and tissue growth and repair. In the deal, Genentech has agreed to provide an unspecified upfront payment, three years of research support and milestones for the successful development of any new therapeutics.##########\n",
        "\"We have developed a set of assets, including know-how, biological insights and intellectual property which we believe has substantial potential as antibody targets,\" \u2026##########\n",
        "Trend: E&amp;Y tracks growing biotech industry##########\n",
        "June 2, 2005##########\n",
        "The world's biotech companies raised a record $21.2 billion last year, according to a new report from Ernst & Young, and the lion's share went to U.S. drug developers. American biotech companies raised $16.9 billion, according to the accounting giant, a significant increase over the $14.4 billion raised in 2003. Europe's biotech industry faces big challenges, adds Ernst & Young, while biotech hotbeds have begun to blossom in India, China and Japan.##########\n",
        "\"Despite turning the \u2026##########\n",
        "SPOTLIGHT: Kosan touts Hsp90 results##########\n",
        "June 2, 2005##########\n",
        "Sweden's Kosan Biosciences says that preliminary results of a Phase I trial of its experimental heat shock protein 90 inhibitor showed signs of antiocancer activity and tolerability. Several biotechs are racing to develop Hsp90 inhibitors, including Infinity Pharmaceuticals, which researchers believe will ultimately lead to a treatment that can kill of cancer cells. Release##########\n",
        "ALSO NOTED: J&amp;J recalls children's Tylenol; PharmaFrontiers releases Phase I/II data; XenoPort cuts IPO price; and much mor##########\n",
        "June 2, 2005##########\n",
        "> Johnson & Johnson says it is recalling children's Tylenol out of concern that its packaging could lead to overdosing. Story##########\n",
        "> PharmaFrontiers has released positive interim data from two Phase I/II trials of multiple sclerosis. Release##########\n",
        "> Santa Clara, \u2026##########\n",
        "Anadys lands big licensing deal for hep C drug##########\n",
        "June 1, 2005##########\n",
        "San Diego-based Anadys has signed a licensing deal for its experimental hepatitis C drug with Novartis, earning $20 million up front and as much as $550 million more in milestone payments. A $10 million payment will be triggered if Anadys' upcoming IND application is approved by the FDA. ANA975 is in Phase I trials for hep C but may also be developed for other indications such as hepatitis B infection.##########\n",
        "\"Results of our clinical studies suggest that TLR7 agonists may represent an \u2026##########\n",
        "Elan hammered on reported case of PML##########\n",
        "June 1, 2005##########\n",
        "Shares of Ireland's Elan tumbled in overnight trading after the Boston Globe reported that a fourth patient taking its new MS drug Tysabri may have contracted a rare and often fatal brain disease known as PML. The report said that the fourth unconfirmed case involved a woman taking Tysabri with another MS drug -- Avonex. Two of the three confirmed cases of PML involve patients taking a combined regimen of Tysabri and Avonex, leading to some speculation that the drugs may return \u2026##########\n",
        "Merck vaccine effective in preventing shingles##########\n",
        "June 1, 2005##########\n",
        "An experimental vaccine developed by Merck and poised for FDA approval helped cut the occurrence and severity of shingles, according to new trial data printed in the New England Journal of Medicine. Of the more than 38,000 people who participated in the study, there were 315 cases of shingles among the group taking the vaccine compared to 642 cases among the group receiving a placebo. And the group that took the vaccine and still developed the skin and nerve infection experienced \u2026##########\n",
        "Study: Hormone builds trust##########\n",
        "June 1, 2005##########\n",
        "Researchers at the University of Zurich have found that a hormone helps engender trust. In a trial involving 128 people, subjects inhaling oxytocin were more likely to trust bankers with their money. When researchers substituted computers for bankers, the hormone had no effect, leading them to believe that it would only work on interpersonal relationships. Used properly, the hormone treatment could help inspire more trusting relationships at a variety of levels. Misused, it could prove a \u2026##########\n",
        "Icahn renews offer to buy Mylan##########\n",
        "June 1, 2005##########\n",
        "Carl Icahn is making a new bid to buy Mylan Laboratories, this time offering more than $5 billion for the drug company. He made his first bid for Mylan last fall as he fought against a proposed buyout of King Pharmaceutical. That deal fell apart earlier this year.##########\n",
        "- read this story from the Boston Globe for more on the buyout offer##########\n",
        "SPOTLIGHT: Chemo combo increases survival##########\n",
        "June 1, 2005##########\n",
        "A new study indicates that a combination of chemotherapy drugs can increase the five-year survival rates of women with metastatic, node-positive breast cancer by 7 percent. But researchers warn of serious side effects. Story##########\n",
        "VC: Gemin X leads with $65M second round##########\n",
        "June 1, 2005##########\n",
        "Gemin X leads with $65M second round.##########\n",
        "ALSO NOTED: Inspire files amended NDA; Genetic variations influence Coumadin use; Immunomedics begins Phase III;and much more..##########\n",
        "June 1, 2005##########\n",
        "> Inspire Pharmaceuticals is taking another shot at gaining approval for its experimental treatment for dry eye, filing an amended NDA for a drug that has failed two Phase III trials. Story##########\n",
        "> Newly discovered genetic variations play a role in determining the right dose of the anti-clotting drug Coumadin. \u2026##########\n",
        "Affymetrix to acquire ParAllele in $120M deal##########\n",
        "May 31, 2005##########\n",
        "Affymetrix is buying South San Francisco-based ParAllele BioScience for $120 million in stock. The two have already been collaborating for the past two years. ParAllele can track thousands of drug reactions in a test tube with its assay technology while Affymetrix's technology opens up exploration of the genome.##########\n",
        "\"Together, Affymetrix and ParAllele have enabled new areas of science by offering products to explore the whole genome, as well as specific regions of interest,\" said \u2026##########\n",
        "Parexel lays off US workers in restructuring##########\n",
        "May 31, 2005##########\n",
        "Contract drug researcher Parexel will spend up to $35 million to restructure, laying off or relocating 150 workers. COO Carl Spalding will retire at the end of June. Parexel officials says the restructuring was triggered by a change in the \"geographic mix\" of the business. The company is downsizing in the US as it expands and adds new workers abroad. Parexel expects to have a net increase in employment by the end of this quarter.##########\n",
        "- read this article from the AP for more on the restructuring##########\n",
        "FDA approves Mylan blood pressure drug##########\n",
        "May 31, 2005##########\n",
        "The FDA has approved Mylan Laboratories Nebivolol for high blood pressure contingent on Mylan's submission of preclinical data and the resolution of labeling requirements. The approvable letter comes slightly more than a year after the drug company filed its NDA. Mylan representatives say the data from an ongoing preclinical study of the beta blocker should satisfy the agency. Mylan licensed Nebivolol from Janssen Pharmaceutica four years ago.##########\n",
        "- read this \u2026##########\n",
        "Novartis to collaborate with Hybridon##########\n",
        "May 31, 2005##########\n",
        "Novartis has inked a collaboration deal with Cambridge, Massachusetts-based Hybridon to develop immune modulatory compounds for asthma and allergies. In the deal, Novartis will fund research into the IMOs and pay up to $136 million in milestones and other fees for a successful product launch. The compounds are intended to act as agonists for Toll-like receptor 9 to produce an immune response capable of warding off asthma and allergy.##########\n",
        "\"There is a pressing need to develop more \u2026##########\n",
        "Stylli lands CEO post at Sequenom##########\n",
        "May 31, 2005##########\n",
        "Harry Stylli, former CEO at Xencor, will take over as CEO of Sequenom. Stylli remains a director of Xencor and is the founder of Aurora Biosciences. He replaces Antonius Schuh, who resigned in February. Company CFO Stephen Zaniboni has been acting CEO in the interim.##########\n",
        "- read this story from Marketwatch on the appointment##########\n",
        "SPOTLIGHT: Glumetza approved in Canada##########\n",
        "May 31, 2005##########\n",
        "Canada's Biovail and Depomed have received Canadian regulatory approval for Glumetza for Type 2 diabetes. The companies are also expecting a decision from the FDA on Glumetza, which earned an \"approvable\" letter from the agency. Release##########\n",
        "C&amp;L: Connelly named president of Lilly USA##########\n",
        "May 31, 2005##########\n",
        "Deidre Connelly, senior vice president for human resources at Eli Lilly, has been named president of Lilly USA. Succeeding her will be Anthony (Tony) Murphy, PhD, who has been promoted to senior vice president for human resources.##########\n",
        "Shaun A. Kirkpatrick has been named president and CEO of Research Corporation \u2026##########\n"
       ]
      }
     ],
     "prompt_number": 4
    },
    {
     "cell_type": "code",
     "collapsed": false,
     "input": [],
     "language": "python",
     "metadata": {},
     "outputs": []
    }
   ],
   "metadata": {}
  }
 ]
}