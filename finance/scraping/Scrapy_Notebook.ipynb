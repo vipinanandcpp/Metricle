{
 "metadata": {
  "name": ""
 },
 "nbformat": 3,
 "nbformat_minor": 0,
 "worksheets": [
  {
   "cells": [
    {
     "cell_type": "code",
     "collapsed": false,
     "input": [
      "import reuters"
     ],
     "language": "python",
     "metadata": {},
     "outputs": [],
     "prompt_number": 1
    },
    {
     "cell_type": "code",
     "collapsed": false,
     "input": [
      "reuters.get_reuters_symbol_headline_events('NFLX','2014-04-21')"
     ],
     "language": "python",
     "metadata": {},
     "outputs": [
      {
       "html": [
        "<div style=\"max-height:1000px;max-width:1500px;overflow:auto;\">\n",
        "<table border=\"1\" class=\"dataframe\">\n",
        "  <thead>\n",
        "    <tr style=\"text-align: right;\">\n",
        "      <th></th>\n",
        "      <th>ticker</th>\n",
        "      <th>date</th>\n",
        "      <th>headlines</th>\n",
        "      <th>abstract</th>\n",
        "      <th>timestamp</th>\n",
        "      <th>keywords</th>\n",
        "    </tr>\n",
        "  </thead>\n",
        "  <tbody>\n",
        "    <tr>\n",
        "      <th>0</th>\n",
        "      <td> NFLX</td>\n",
        "      <td> 2014-04-21</td>\n",
        "      <td> UPDATE 3-Netflix plans to raise prices as U.S....</td>\n",
        "      <td> LOS ANGELES, April 21  - Video streaming servi...</td>\n",
        "      <td> 2014-04-21 18:37</td>\n",
        "      <td> [plans, netflix, update, prices, subcribers, g...</td>\n",
        "    </tr>\n",
        "    <tr>\n",
        "      <th>1</th>\n",
        "      <td> NFLX</td>\n",
        "      <td> 2014-04-21</td>\n",
        "      <td> Netflix plans to raise prices as U.S. streamin...</td>\n",
        "      <td> LOS ANGELES  - Video streaming service Netflix...</td>\n",
        "      <td> 2014-04-21 18:38</td>\n",
        "      <td>       [prices, grow, plans, subscribers, netflix]</td>\n",
        "    </tr>\n",
        "  </tbody>\n",
        "</table>\n",
        "<p>2 rows \u00d7 6 columns</p>\n",
        "</div>"
       ],
       "metadata": {},
       "output_type": "pyout",
       "prompt_number": 2,
       "text": [
        "  ticker        date                                          headlines  \\\n",
        "0   NFLX  2014-04-21  UPDATE 3-Netflix plans to raise prices as U.S....   \n",
        "1   NFLX  2014-04-21  Netflix plans to raise prices as U.S. streamin...   \n",
        "\n",
        "                                            abstract         timestamp  \\\n",
        "0  LOS ANGELES, April 21  - Video streaming servi...  2014-04-21 18:37   \n",
        "1  LOS ANGELES  - Video streaming service Netflix...  2014-04-21 18:38   \n",
        "\n",
        "                                            keywords  \n",
        "0  [plans, netflix, update, prices, subcribers, g...  \n",
        "1        [prices, grow, plans, subscribers, netflix]  \n",
        "\n",
        "[2 rows x 6 columns]"
       ]
      }
     ],
     "prompt_number": 2
    },
    {
     "cell_type": "code",
     "collapsed": false,
     "input": [],
     "language": "python",
     "metadata": {},
     "outputs": []
    }
   ],
   "metadata": {}
  }
 ]
}