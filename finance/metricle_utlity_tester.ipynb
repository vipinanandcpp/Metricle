{
 "metadata": {
  "name": ""
 },
 "nbformat": 3,
 "nbformat_minor": 0,
 "worksheets": [
  {
   "cells": [
    {
     "cell_type": "code",
     "collapsed": false,
     "input": [
      "from nlp import nltk_metricle\n",
      "from scraping import reuters\n",
      "from scraping import fiercebiotech\n",
      "import pandas as pd\n"
     ],
     "language": "python",
     "metadata": {},
     "outputs": [],
     "prompt_number": 1
    },
    {
     "cell_type": "code",
     "collapsed": false,
     "input": [
      "reuters.get_reuters_symbol_headline_events('BIIB','2014-04-10')\n",
      "                                   "
     ],
     "language": "python",
     "metadata": {},
     "outputs": [
      {
       "html": [
        "<div style=\"max-height:1000px;max-width:1500px;overflow:auto;\">\n",
        "<table border=\"1\" class=\"dataframe\">\n",
        "  <thead>\n",
        "    <tr style=\"text-align: right;\">\n",
        "      <th></th>\n",
        "      <th>ticker</th>\n",
        "      <th>date</th>\n",
        "      <th>headlines</th>\n",
        "      <th>abstract</th>\n",
        "      <th>timestamp</th>\n",
        "      <th>keywords</th>\n",
        "    </tr>\n",
        "  </thead>\n",
        "  <tbody>\n",
        "    <tr>\n",
        "      <th>0</th>\n",
        "      <td> BIIB</td>\n",
        "      <td> 2014-04-10</td>\n",
        "      <td> Biogen's blood disorder drug succeeds in late-...</td>\n",
        "      <td> April 10  - Biogen Idec Inc and Swedish\\nOrpha...</td>\n",
        "      <td> 2014-04-10 07:23</td>\n",
        "      <td> [succeeds, drug, late, trial, biogen, disorder...</td>\n",
        "    </tr>\n",
        "    <tr>\n",
        "      <th>1</th>\n",
        "      <td> BIIB</td>\n",
        "      <td> 2014-04-10</td>\n",
        "      <td> UPDATE 1-Biogen's blood disorder drug succeeds...</td>\n",
        "      <td> April 10  - Biogen Idec Inc and Swedish\\nOrpha...</td>\n",
        "      <td> 2014-04-10 08:42</td>\n",
        "      <td> [succeeds, update, drug, late, trial, blood, d...</td>\n",
        "    </tr>\n",
        "  </tbody>\n",
        "</table>\n",
        "<p>2 rows \u00d7 6 columns</p>\n",
        "</div>"
       ],
       "metadata": {},
       "output_type": "pyout",
       "prompt_number": 2,
       "text": [
        "  ticker        date                                          headlines  \\\n",
        "0   BIIB  2014-04-10  Biogen's blood disorder drug succeeds in late-...   \n",
        "1   BIIB  2014-04-10  UPDATE 1-Biogen's blood disorder drug succeeds...   \n",
        "\n",
        "                                            abstract         timestamp  \\\n",
        "0  April 10  - Biogen Idec Inc and Swedish\\nOrpha...  2014-04-10 07:23   \n",
        "1  April 10  - Biogen Idec Inc and Swedish\\nOrpha...  2014-04-10 08:42   \n",
        "\n",
        "                                            keywords  \n",
        "0  [succeeds, drug, late, trial, biogen, disorder...  \n",
        "1  [succeeds, update, drug, late, trial, blood, d...  \n",
        "\n",
        "[2 rows x 6 columns]"
       ]
      }
     ],
     "prompt_number": 2
    },
    {
     "cell_type": "code",
     "collapsed": false,
     "input": [
      "fiercebiotech.extract_historic_fierce_biotech_headlines()"
     ],
     "language": "python",
     "metadata": {},
     "outputs": [
      {
       "output_type": "stream",
       "stream": "stdout",
       "text": [
        "'NoneType' object has no attribute 'start'\n",
        "'NoneType' object has no attribute 'start'"
       ]
      },
      {
       "output_type": "stream",
       "stream": "stdout",
       "text": [
        "\n",
        "'NoneType' object has no attribute 'start'"
       ]
      },
      {
       "output_type": "stream",
       "stream": "stdout",
       "text": [
        "\n",
        "'NoneType' object has no attribute 'start'"
       ]
      },
      {
       "output_type": "stream",
       "stream": "stdout",
       "text": [
        "\n",
        "'NoneType' object has no attribute 'start'"
       ]
      },
      {
       "output_type": "stream",
       "stream": "stdout",
       "text": [
        "\n",
        "'NoneType' object has no attribute 'start'"
       ]
      },
      {
       "output_type": "stream",
       "stream": "stdout",
       "text": [
        "\n",
        "'NoneType' object has no attribute 'start'"
       ]
      },
      {
       "output_type": "stream",
       "stream": "stdout",
       "text": [
        "\n",
        "'NoneType' object has no attribute 'start'"
       ]
      },
      {
       "output_type": "stream",
       "stream": "stdout",
       "text": [
        "\n",
        "'NoneType' object has no attribute 'start'"
       ]
      },
      {
       "output_type": "stream",
       "stream": "stdout",
       "text": [
        "\n",
        "'NoneType' object has no attribute 'start'"
       ]
      },
      {
       "output_type": "stream",
       "stream": "stdout",
       "text": [
        "\n",
        "'NoneType' object has no attribute 'start'"
       ]
      },
      {
       "output_type": "stream",
       "stream": "stdout",
       "text": [
        "\n",
        "'NoneType' object has no attribute 'start'"
       ]
      },
      {
       "output_type": "stream",
       "stream": "stdout",
       "text": [
        "\n",
        "'NoneType' object has no attribute 'start'"
       ]
      },
      {
       "output_type": "stream",
       "stream": "stdout",
       "text": [
        "\n",
        "'NoneType' object has no attribute 'start'"
       ]
      },
      {
       "output_type": "stream",
       "stream": "stdout",
       "text": [
        "\n",
        "'NoneType' object has no attribute 'start'"
       ]
      },
      {
       "output_type": "stream",
       "stream": "stdout",
       "text": [
        "\n",
        "'NoneType' object has no attribute 'start'"
       ]
      },
      {
       "output_type": "stream",
       "stream": "stdout",
       "text": [
        "\n",
        "'NoneType' object has no attribute 'start'"
       ]
      },
      {
       "output_type": "stream",
       "stream": "stdout",
       "text": [
        "\n",
        "'NoneType' object has no attribute 'start'"
       ]
      },
      {
       "output_type": "stream",
       "stream": "stdout",
       "text": [
        "\n",
        "'NoneType' object has no attribute 'start'"
       ]
      },
      {
       "output_type": "stream",
       "stream": "stdout",
       "text": [
        "\n",
        "'NoneType' object has no attribute 'start'"
       ]
      },
      {
       "output_type": "stream",
       "stream": "stdout",
       "text": [
        "\n",
        "'NoneType' object has no attribute 'start'"
       ]
      },
      {
       "output_type": "stream",
       "stream": "stdout",
       "text": [
        "\n",
        "'NoneType' object has no attribute 'start'"
       ]
      },
      {
       "output_type": "stream",
       "stream": "stdout",
       "text": [
        "\n",
        "'NoneType' object has no attribute 'start'"
       ]
      },
      {
       "output_type": "stream",
       "stream": "stdout",
       "text": [
        "\n",
        "'NoneType' object has no attribute 'start'"
       ]
      },
      {
       "output_type": "stream",
       "stream": "stdout",
       "text": [
        "\n",
        "'NoneType' object has no attribute 'start'"
       ]
      },
      {
       "output_type": "stream",
       "stream": "stdout",
       "text": [
        "\n",
        "'NoneType' object has no attribute 'start'"
       ]
      },
      {
       "output_type": "stream",
       "stream": "stdout",
       "text": [
        "\n",
        "'NoneType' object has no attribute 'start'"
       ]
      },
      {
       "output_type": "stream",
       "stream": "stdout",
       "text": [
        "\n",
        "'NoneType' object has no attribute 'start'"
       ]
      },
      {
       "output_type": "stream",
       "stream": "stdout",
       "text": [
        "\n",
        "'NoneType' object has no attribute 'start'\n",
        "'NoneType' object has no attribute 'start'"
       ]
      },
      {
       "output_type": "stream",
       "stream": "stdout",
       "text": [
        "\n",
        "'NoneType' object has no attribute 'start'"
       ]
      },
      {
       "output_type": "stream",
       "stream": "stdout",
       "text": [
        "\n",
        "'NoneType' object has no attribute 'start'"
       ]
      },
      {
       "output_type": "stream",
       "stream": "stdout",
       "text": [
        "\n",
        "'NoneType' object has no attribute 'start'"
       ]
      },
      {
       "output_type": "stream",
       "stream": "stdout",
       "text": [
        "\n",
        "'NoneType' object has no attribute 'start'"
       ]
      },
      {
       "output_type": "stream",
       "stream": "stdout",
       "text": [
        "\n",
        "'NoneType' object has no attribute 'start'"
       ]
      },
      {
       "output_type": "stream",
       "stream": "stdout",
       "text": [
        "\n",
        "'NoneType' object has no attribute 'start'"
       ]
      },
      {
       "output_type": "stream",
       "stream": "stdout",
       "text": [
        "\n",
        "'NoneType' object has no attribute 'start'"
       ]
      },
      {
       "output_type": "stream",
       "stream": "stdout",
       "text": [
        "\n",
        "'NoneType' object has no attribute 'start'"
       ]
      },
      {
       "output_type": "stream",
       "stream": "stdout",
       "text": [
        "\n",
        "'NoneType' object has no attribute 'start'"
       ]
      },
      {
       "output_type": "stream",
       "stream": "stdout",
       "text": [
        "\n",
        "'NoneType' object has no attribute 'start'"
       ]
      },
      {
       "output_type": "stream",
       "stream": "stdout",
       "text": [
        "\n",
        "'NoneType' object has no attribute 'start'"
       ]
      },
      {
       "output_type": "stream",
       "stream": "stdout",
       "text": [
        "\n",
        "'NoneType' object has no attribute 'start'"
       ]
      },
      {
       "output_type": "stream",
       "stream": "stdout",
       "text": [
        "\n",
        "'NoneType' object has no attribute 'start'"
       ]
      },
      {
       "output_type": "stream",
       "stream": "stdout",
       "text": [
        "\n",
        "'NoneType' object has no attribute 'start'"
       ]
      },
      {
       "output_type": "stream",
       "stream": "stdout",
       "text": [
        "\n",
        "'NoneType' object has no attribute 'start'"
       ]
      },
      {
       "output_type": "stream",
       "stream": "stdout",
       "text": [
        "\n",
        "'NoneType' object has no attribute 'start'"
       ]
      },
      {
       "output_type": "stream",
       "stream": "stdout",
       "text": [
        "\n",
        "cannot concatenate 'str' and 'NoneType' objects"
       ]
      },
      {
       "output_type": "stream",
       "stream": "stdout",
       "text": [
        "\n",
        "cannot concatenate 'str' and 'NoneType' objects"
       ]
      },
      {
       "output_type": "stream",
       "stream": "stdout",
       "text": [
        "\n",
        "cannot concatenate 'str' and 'NoneType' objects\n",
        "cannot concatenate 'str' and 'NoneType' objects\n",
        "cannot concatenate 'str' and 'NoneType' objects\n",
        "cannot concatenate 'str' and 'NoneType' objects\n",
        "cannot concatenate 'str' and 'NoneType' objects\n",
        "cannot concatenate 'str' and 'NoneType' objects\n",
        "cannot concatenate 'str' and 'NoneType' objects"
       ]
      },
      {
       "output_type": "stream",
       "stream": "stdout",
       "text": [
        "\n",
        "cannot concatenate 'str' and 'NoneType' objects"
       ]
      },
      {
       "output_type": "stream",
       "stream": "stdout",
       "text": [
        "\n",
        "cannot concatenate 'str' and 'NoneType' objects"
       ]
      },
      {
       "output_type": "stream",
       "stream": "stdout",
       "text": [
        "\n",
        "cannot concatenate 'str' and 'NoneType' objects"
       ]
      },
      {
       "output_type": "stream",
       "stream": "stdout",
       "text": [
        "\n",
        "cannot concatenate 'str' and 'NoneType' objects"
       ]
      },
      {
       "output_type": "stream",
       "stream": "stdout",
       "text": [
        "\n",
        "cannot concatenate 'str' and 'NoneType' objects\n",
        "cannot concatenate 'str' and 'NoneType' objects\n",
        "cannot concatenate 'str' and 'NoneType' objects\n",
        "cannot concatenate 'str' and 'NoneType' objects\n",
        "cannot concatenate 'str' and 'NoneType' objects\n",
        "cannot concatenate 'str' and 'NoneType' objects"
       ]
      },
      {
       "output_type": "stream",
       "stream": "stdout",
       "text": [
        "\n",
        "cannot concatenate 'str' and 'NoneType' objects"
       ]
      },
      {
       "output_type": "stream",
       "stream": "stdout",
       "text": [
        "\n",
        "cannot concatenate 'str' and 'NoneType' objects"
       ]
      },
      {
       "output_type": "stream",
       "stream": "stdout",
       "text": [
        "\n",
        "cannot concatenate 'str' and 'NoneType' objects"
       ]
      },
      {
       "output_type": "stream",
       "stream": "stdout",
       "text": [
        "\n",
        "cannot concatenate 'str' and 'NoneType' objects\n",
        "cannot concatenate 'str' and 'NoneType' objects"
       ]
      },
      {
       "output_type": "stream",
       "stream": "stdout",
       "text": [
        "\n",
        "cannot concatenate 'str' and 'NoneType' objects"
       ]
      },
      {
       "output_type": "stream",
       "stream": "stdout",
       "text": [
        "\n",
        "cannot concatenate 'str' and 'NoneType' objects\n",
        "cannot concatenate 'str' and 'NoneType' objects"
       ]
      },
      {
       "output_type": "stream",
       "stream": "stdout",
       "text": [
        "\n",
        "cannot concatenate 'str' and 'NoneType' objects\n",
        "cannot concatenate 'str' and 'NoneType' objects"
       ]
      },
      {
       "output_type": "stream",
       "stream": "stdout",
       "text": [
        "\n",
        "cannot concatenate 'str' and 'NoneType' objects"
       ]
      },
      {
       "output_type": "stream",
       "stream": "stdout",
       "text": [
        "\n",
        "cannot concatenate 'str' and 'NoneType' objects"
       ]
      },
      {
       "output_type": "stream",
       "stream": "stdout",
       "text": [
        "\n",
        "cannot concatenate 'str' and 'NoneType' objects\n",
        "cannot concatenate 'str' and 'NoneType' objects\n",
        "cannot concatenate 'str' and 'NoneType' objects\n",
        "cannot concatenate 'str' and 'NoneType' objects\n",
        "cannot concatenate 'str' and 'NoneType' objects\n",
        "cannot concatenate 'str' and 'NoneType' objects\n",
        "cannot concatenate 'str' and 'NoneType' objects"
       ]
      },
      {
       "output_type": "stream",
       "stream": "stdout",
       "text": [
        "\n",
        "cannot concatenate 'str' and 'NoneType' objects"
       ]
      },
      {
       "output_type": "stream",
       "stream": "stdout",
       "text": [
        "\n",
        "cannot concatenate 'str' and 'NoneType' objects\n",
        "cannot concatenate 'str' and 'NoneType' objects"
       ]
      },
      {
       "output_type": "stream",
       "stream": "stdout",
       "text": [
        "\n",
        "cannot concatenate 'str' and 'NoneType' objects"
       ]
      },
      {
       "output_type": "stream",
       "stream": "stdout",
       "text": [
        "\n",
        "cannot concatenate 'str' and 'NoneType' objects"
       ]
      },
      {
       "output_type": "stream",
       "stream": "stdout",
       "text": [
        "\n",
        "cannot concatenate 'str' and 'NoneType' objects\n",
        "cannot concatenate 'str' and 'NoneType' objects"
       ]
      },
      {
       "output_type": "stream",
       "stream": "stdout",
       "text": [
        "\n",
        "cannot concatenate 'str' and 'NoneType' objects"
       ]
      },
      {
       "output_type": "stream",
       "stream": "stdout",
       "text": [
        "\n",
        "cannot concatenate 'str' and 'NoneType' objects\n",
        "cannot concatenate 'str' and 'NoneType' objects"
       ]
      },
      {
       "output_type": "stream",
       "stream": "stdout",
       "text": [
        "\n",
        "'NoneType' object has no attribute 'start'"
       ]
      },
      {
       "output_type": "stream",
       "stream": "stdout",
       "text": [
        "\n",
        "cannot concatenate 'str' and 'NoneType' objects"
       ]
      },
      {
       "output_type": "stream",
       "stream": "stdout",
       "text": [
        "\n",
        "cannot concatenate 'str' and 'NoneType' objects"
       ]
      },
      {
       "output_type": "stream",
       "stream": "stdout",
       "text": [
        "\n",
        "'NoneType' object has no attribute 'start'"
       ]
      },
      {
       "output_type": "stream",
       "stream": "stdout",
       "text": [
        "\n",
        "cannot concatenate 'str' and 'NoneType' objects"
       ]
      },
      {
       "output_type": "stream",
       "stream": "stdout",
       "text": [
        "\n",
        "cannot concatenate 'str' and 'NoneType' objects"
       ]
      },
      {
       "output_type": "stream",
       "stream": "stdout",
       "text": [
        "\n",
        "cannot concatenate 'str' and 'NoneType' objects"
       ]
      },
      {
       "output_type": "stream",
       "stream": "stdout",
       "text": [
        "\n",
        "cannot concatenate 'str' and 'NoneType' objects\n",
        "cannot concatenate 'str' and 'NoneType' objects\n",
        "cannot concatenate 'str' and 'NoneType' objects\n",
        "cannot concatenate 'str' and 'NoneType' objects\n",
        "cannot concatenate 'str' and 'NoneType' objects\n",
        "cannot concatenate 'str' and 'NoneType' objects\n",
        "cannot concatenate 'str' and 'NoneType' objects"
       ]
      },
      {
       "output_type": "stream",
       "stream": "stdout",
       "text": [
        "\n",
        "cannot concatenate 'str' and 'NoneType' objects\n",
        "cannot concatenate 'str' and 'NoneType' objects"
       ]
      },
      {
       "output_type": "stream",
       "stream": "stdout",
       "text": [
        "\n",
        "cannot concatenate 'str' and 'NoneType' objects"
       ]
      },
      {
       "output_type": "stream",
       "stream": "stdout",
       "text": [
        "\n",
        "cannot concatenate 'str' and 'NoneType' objects\n",
        "cannot concatenate 'str' and 'NoneType' objects\n",
        "cannot concatenate 'str' and 'NoneType' objects\n",
        "cannot concatenate 'str' and 'NoneType' objects\n",
        "cannot concatenate 'str' and 'NoneType' objects\n",
        "cannot concatenate 'str' and 'NoneType' objects\n",
        "cannot concatenate 'str' and 'NoneType' objects"
       ]
      },
      {
       "output_type": "stream",
       "stream": "stdout",
       "text": [
        "\n",
        "cannot concatenate 'str' and 'NoneType' objects"
       ]
      },
      {
       "output_type": "stream",
       "stream": "stdout",
       "text": [
        "\n",
        "cannot concatenate 'str' and 'NoneType' objects\n",
        "cannot concatenate 'str' and 'NoneType' objects\n",
        "cannot concatenate 'str' and 'NoneType' objects\n",
        "cannot concatenate 'str' and 'NoneType' objects\n",
        "cannot concatenate 'str' and 'NoneType' objects\n",
        "cannot concatenate 'str' and 'NoneType' objects"
       ]
      },
      {
       "output_type": "stream",
       "stream": "stdout",
       "text": [
        "\n",
        "cannot concatenate 'str' and 'NoneType' objects"
       ]
      },
      {
       "output_type": "stream",
       "stream": "stdout",
       "text": [
        "\n",
        "cannot concatenate 'str' and 'NoneType' objects\n",
        "cannot concatenate 'str' and 'NoneType' objects\n",
        "cannot concatenate 'str' and 'NoneType' objects\n",
        "cannot concatenate 'str' and 'NoneType' objects\n",
        "cannot concatenate 'str' and 'NoneType' objects\n",
        "cannot concatenate 'str' and 'NoneType' objects"
       ]
      },
      {
       "output_type": "stream",
       "stream": "stdout",
       "text": [
        "\n",
        "cannot concatenate 'str' and 'NoneType' objects\n",
        "cannot concatenate 'str' and 'NoneType' objects\n",
        "cannot concatenate 'str' and 'NoneType' objects\n",
        "cannot concatenate 'str' and 'NoneType' objects\n",
        "cannot concatenate 'str' and 'NoneType' objects\n",
        "cannot concatenate 'str' and 'NoneType' objects"
       ]
      },
      {
       "output_type": "stream",
       "stream": "stdout",
       "text": [
        "\n",
        "cannot concatenate 'str' and 'NoneType' objects\n",
        "cannot concatenate 'str' and 'NoneType' objects\n",
        "cannot concatenate 'str' and 'NoneType' objects\n",
        "cannot concatenate 'str' and 'NoneType' objects\n",
        "cannot concatenate 'str' and 'NoneType' objects\n",
        "cannot concatenate 'str' and 'NoneType' objects"
       ]
      },
      {
       "output_type": "stream",
       "stream": "stdout",
       "text": [
        "\n",
        "cannot concatenate 'str' and 'NoneType' objects"
       ]
      },
      {
       "output_type": "stream",
       "stream": "stdout",
       "text": [
        "\n",
        "cannot concatenate 'str' and 'NoneType' objects"
       ]
      },
      {
       "output_type": "stream",
       "stream": "stdout",
       "text": [
        "\n",
        "cannot concatenate 'str' and 'NoneType' objects\n",
        "cannot concatenate 'str' and 'NoneType' objects\n",
        "cannot concatenate 'str' and 'NoneType' objects\n",
        "cannot concatenate 'str' and 'NoneType' objects\n",
        "cannot concatenate 'str' and 'NoneType' objects\n",
        "cannot concatenate 'str' and 'NoneType' objects"
       ]
      },
      {
       "output_type": "stream",
       "stream": "stdout",
       "text": [
        "\n",
        "cannot concatenate 'str' and 'NoneType' objects\n",
        "cannot concatenate 'str' and 'NoneType' objects"
       ]
      },
      {
       "output_type": "stream",
       "stream": "stdout",
       "text": [
        "\n",
        "cannot concatenate 'str' and 'NoneType' objects"
       ]
      },
      {
       "output_type": "stream",
       "stream": "stdout",
       "text": [
        "\n",
        "cannot concatenate 'str' and 'NoneType' objects"
       ]
      },
      {
       "output_type": "stream",
       "stream": "stdout",
       "text": [
        "\n",
        "cannot concatenate 'str' and 'NoneType' objects"
       ]
      },
      {
       "output_type": "stream",
       "stream": "stdout",
       "text": [
        "\n",
        "cannot concatenate 'str' and 'NoneType' objects\n",
        "cannot concatenate 'str' and 'NoneType' objects"
       ]
      },
      {
       "output_type": "stream",
       "stream": "stdout",
       "text": [
        "\n",
        "cannot concatenate 'str' and 'NoneType' objects\n",
        "cannot concatenate 'str' and 'NoneType' objects\n",
        "cannot concatenate 'str' and 'NoneType' objects\n",
        "cannot concatenate 'str' and 'NoneType' objects\n",
        "cannot concatenate 'str' and 'NoneType' objects\n",
        "cannot concatenate 'str' and 'NoneType' objects"
       ]
      },
      {
       "output_type": "stream",
       "stream": "stdout",
       "text": [
        "\n",
        "cannot concatenate 'str' and 'NoneType' objects\n",
        "cannot concatenate 'str' and 'NoneType' objects\n",
        "cannot concatenate 'str' and 'NoneType' objects\n",
        "cannot concatenate 'str' and 'NoneType' objects\n",
        "cannot concatenate 'str' and 'NoneType' objects\n",
        "cannot concatenate 'str' and 'NoneType' objects\n",
        "cannot concatenate 'str' and 'NoneType' objects"
       ]
      },
      {
       "output_type": "stream",
       "stream": "stdout",
       "text": [
        "\n",
        "cannot concatenate 'str' and 'NoneType' objects"
       ]
      },
      {
       "output_type": "stream",
       "stream": "stdout",
       "text": [
        "\n",
        "cannot concatenate 'str' and 'NoneType' objects\n",
        "cannot concatenate 'str' and 'NoneType' objects\n",
        "cannot concatenate 'str' and 'NoneType' objects\n",
        "cannot concatenate 'str' and 'NoneType' objects\n",
        "cannot concatenate 'str' and 'NoneType' objects\n",
        "cannot concatenate 'str' and 'NoneType' objects\n",
        "cannot concatenate 'str' and 'NoneType' objects"
       ]
      },
      {
       "output_type": "stream",
       "stream": "stdout",
       "text": [
        "\n",
        "cannot concatenate 'str' and 'NoneType' objects"
       ]
      },
      {
       "output_type": "stream",
       "stream": "stdout",
       "text": [
        "\n",
        "cannot concatenate 'str' and 'NoneType' objects\n",
        "cannot concatenate 'str' and 'NoneType' objects\n",
        "cannot concatenate 'str' and 'NoneType' objects\n",
        "cannot concatenate 'str' and 'NoneType' objects\n",
        "cannot concatenate 'str' and 'NoneType' objects\n",
        "cannot concatenate 'str' and 'NoneType' objects\n",
        "cannot concatenate 'str' and 'NoneType' objects"
       ]
      },
      {
       "output_type": "stream",
       "stream": "stdout",
       "text": [
        "\n",
        "cannot concatenate 'str' and 'NoneType' objects\n",
        "cannot concatenate 'str' and 'NoneType' objects\n",
        "cannot concatenate 'str' and 'NoneType' objects\n",
        "cannot concatenate 'str' and 'NoneType' objects\n",
        "cannot concatenate 'str' and 'NoneType' objects\n",
        "cannot concatenate 'str' and 'NoneType' objects\n",
        "cannot concatenate 'str' and 'NoneType' objects"
       ]
      },
      {
       "output_type": "stream",
       "stream": "stdout",
       "text": [
        "\n",
        "cannot concatenate 'str' and 'NoneType' objects\n",
        "cannot concatenate 'str' and 'NoneType' objects\n",
        "cannot concatenate 'str' and 'NoneType' objects\n",
        "cannot concatenate 'str' and 'NoneType' objects\n",
        "cannot concatenate 'str' and 'NoneType' objects\n",
        "cannot concatenate 'str' and 'NoneType' objects"
       ]
      },
      {
       "output_type": "stream",
       "stream": "stdout",
       "text": [
        "\n",
        "cannot concatenate 'str' and 'NoneType' objects"
       ]
      },
      {
       "output_type": "stream",
       "stream": "stdout",
       "text": [
        "\n",
        "cannot concatenate 'str' and 'NoneType' objects\n",
        "cannot concatenate 'str' and 'NoneType' objects\n",
        "cannot concatenate 'str' and 'NoneType' objects\n",
        "cannot concatenate 'str' and 'NoneType' objects\n",
        "cannot concatenate 'str' and 'NoneType' objects\n",
        "cannot concatenate 'str' and 'NoneType' objects\n",
        "cannot concatenate 'str' and 'NoneType' objects"
       ]
      },
      {
       "output_type": "stream",
       "stream": "stdout",
       "text": [
        "\n",
        "cannot concatenate 'str' and 'NoneType' objects"
       ]
      },
      {
       "output_type": "stream",
       "stream": "stdout",
       "text": [
        "\n",
        "cannot concatenate 'str' and 'NoneType' objects"
       ]
      },
      {
       "output_type": "stream",
       "stream": "stdout",
       "text": [
        "\n",
        "cannot concatenate 'str' and 'NoneType' objects"
       ]
      },
      {
       "output_type": "stream",
       "stream": "stdout",
       "text": [
        "\n",
        "cannot concatenate 'str' and 'NoneType' objects"
       ]
      },
      {
       "output_type": "stream",
       "stream": "stdout",
       "text": [
        "\n",
        "cannot concatenate 'str' and 'NoneType' objects"
       ]
      },
      {
       "output_type": "stream",
       "stream": "stdout",
       "text": [
        "\n",
        "cannot concatenate 'str' and 'NoneType' objects"
       ]
      },
      {
       "output_type": "stream",
       "stream": "stdout",
       "text": [
        "\n",
        "cannot concatenate 'str' and 'NoneType' objects\n",
        "cannot concatenate 'str' and 'NoneType' objects\n",
        "cannot concatenate 'str' and 'NoneType' objects\n",
        "cannot concatenate 'str' and 'NoneType' objects\n",
        "cannot concatenate 'str' and 'NoneType' objects\n",
        "cannot concatenate 'str' and 'NoneType' objects\n",
        "cannot concatenate 'str' and 'NoneType' objects"
       ]
      },
      {
       "output_type": "stream",
       "stream": "stdout",
       "text": [
        "\n",
        "cannot concatenate 'str' and 'NoneType' objects\n",
        "cannot concatenate 'str' and 'NoneType' objects\n",
        "cannot concatenate 'str' and 'NoneType' objects\n",
        "cannot concatenate 'str' and 'NoneType' objects\n",
        "cannot concatenate 'str' and 'NoneType' objects\n",
        "cannot concatenate 'str' and 'NoneType' objects\n",
        "cannot concatenate 'str' and 'NoneType' objects"
       ]
      },
      {
       "output_type": "stream",
       "stream": "stdout",
       "text": [
        "\n",
        "cannot concatenate 'str' and 'NoneType' objects"
       ]
      },
      {
       "output_type": "stream",
       "stream": "stdout",
       "text": [
        "\n",
        "cannot concatenate 'str' and 'NoneType' objects\n",
        "cannot concatenate 'str' and 'NoneType' objects\n",
        "cannot concatenate 'str' and 'NoneType' objects\n",
        "cannot concatenate 'str' and 'NoneType' objects\n",
        "cannot concatenate 'str' and 'NoneType' objects\n",
        "cannot concatenate 'str' and 'NoneType' objects\n",
        "cannot concatenate 'str' and 'NoneType' objects"
       ]
      },
      {
       "output_type": "stream",
       "stream": "stdout",
       "text": [
        "\n",
        "cannot concatenate 'str' and 'NoneType' objects\n",
        "cannot concatenate 'str' and 'NoneType' objects\n",
        "cannot concatenate 'str' and 'NoneType' objects\n",
        "cannot concatenate 'str' and 'NoneType' objects\n",
        "cannot concatenate 'str' and 'NoneType' objects\n",
        "cannot concatenate 'str' and 'NoneType' objects\n",
        "cannot concatenate 'str' and 'NoneType' objects"
       ]
      },
      {
       "output_type": "stream",
       "stream": "stdout",
       "text": [
        "\n",
        "cannot concatenate 'str' and 'NoneType' objects\n",
        "cannot concatenate 'str' and 'NoneType' objects"
       ]
      },
      {
       "output_type": "stream",
       "stream": "stdout",
       "text": [
        "\n",
        "cannot concatenate 'str' and 'NoneType' objects\n",
        "cannot concatenate 'str' and 'NoneType' objects\n",
        "cannot concatenate 'str' and 'NoneType' objects\n",
        "cannot concatenate 'str' and 'NoneType' objects\n",
        "cannot concatenate 'str' and 'NoneType' objects\n",
        "cannot concatenate 'str' and 'NoneType' objects\n",
        "cannot concatenate 'str' and 'NoneType' objects"
       ]
      },
      {
       "output_type": "stream",
       "stream": "stdout",
       "text": [
        "\n",
        "cannot concatenate 'str' and 'NoneType' objects"
       ]
      },
      {
       "output_type": "stream",
       "stream": "stdout",
       "text": [
        "\n",
        "cannot concatenate 'str' and 'NoneType' objects"
       ]
      },
      {
       "output_type": "stream",
       "stream": "stdout",
       "text": [
        "\n",
        "cannot concatenate 'str' and 'NoneType' objects\n",
        "cannot concatenate 'str' and 'NoneType' objects\n",
        "cannot concatenate 'str' and 'NoneType' objects\n",
        "cannot concatenate 'str' and 'NoneType' objects\n",
        "cannot concatenate 'str' and 'NoneType' objects\n",
        "cannot concatenate 'str' and 'NoneType' objects"
       ]
      },
      {
       "output_type": "stream",
       "stream": "stdout",
       "text": [
        "\n",
        "cannot concatenate 'str' and 'NoneType' objects"
       ]
      },
      {
       "output_type": "stream",
       "stream": "stdout",
       "text": [
        "\n",
        "cannot concatenate 'str' and 'NoneType' objects\n",
        "cannot concatenate 'str' and 'NoneType' objects\n",
        "cannot concatenate 'str' and 'NoneType' objects\n",
        "cannot concatenate 'str' and 'NoneType' objects\n",
        "cannot concatenate 'str' and 'NoneType' objects\n",
        "cannot concatenate 'str' and 'NoneType' objects"
       ]
      },
      {
       "output_type": "stream",
       "stream": "stdout",
       "text": [
        "\n",
        "cannot concatenate 'str' and 'NoneType' objects"
       ]
      },
      {
       "output_type": "stream",
       "stream": "stdout",
       "text": [
        "\n",
        "cannot concatenate 'str' and 'NoneType' objects\n",
        "cannot concatenate 'str' and 'NoneType' objects\n",
        "cannot concatenate 'str' and 'NoneType' objects\n",
        "cannot concatenate 'str' and 'NoneType' objects\n",
        "cannot concatenate 'str' and 'NoneType' objects\n",
        "cannot concatenate 'str' and 'NoneType' objects"
       ]
      },
      {
       "output_type": "stream",
       "stream": "stdout",
       "text": [
        "\n",
        "cannot concatenate 'str' and 'NoneType' objects\n",
        "cannot concatenate 'str' and 'NoneType' objects\n",
        "cannot concatenate 'str' and 'NoneType' objects\n",
        "cannot concatenate 'str' and 'NoneType' objects\n",
        "cannot concatenate 'str' and 'NoneType' objects\n",
        "cannot concatenate 'str' and 'NoneType' objects"
       ]
      },
      {
       "output_type": "stream",
       "stream": "stdout",
       "text": [
        "\n",
        "cannot concatenate 'str' and 'NoneType' objects"
       ]
      },
      {
       "output_type": "stream",
       "stream": "stdout",
       "text": [
        "\n",
        "cannot concatenate 'str' and 'NoneType' objects\n",
        "cannot concatenate 'str' and 'NoneType' objects\n",
        "cannot concatenate 'str' and 'NoneType' objects\n",
        "cannot concatenate 'str' and 'NoneType' objects\n",
        "cannot concatenate 'str' and 'NoneType' objects\n",
        "cannot concatenate 'str' and 'NoneType' objects"
       ]
      },
      {
       "output_type": "stream",
       "stream": "stdout",
       "text": [
        "\n",
        "cannot concatenate 'str' and 'NoneType' objects\n",
        "cannot concatenate 'str' and 'NoneType' objects\n",
        "cannot concatenate 'str' and 'NoneType' objects\n",
        "cannot concatenate 'str' and 'NoneType' objects\n",
        "cannot concatenate 'str' and 'NoneType' objects\n",
        "cannot concatenate 'str' and 'NoneType' objects"
       ]
      },
      {
       "output_type": "stream",
       "stream": "stdout",
       "text": [
        "\n",
        "cannot concatenate 'str' and 'NoneType' objects\n",
        "cannot concatenate 'str' and 'NoneType' objects\n",
        "cannot concatenate 'str' and 'NoneType' objects\n",
        "cannot concatenate 'str' and 'NoneType' objects\n",
        "cannot concatenate 'str' and 'NoneType' objects\n",
        "cannot concatenate 'str' and 'NoneType' objects"
       ]
      },
      {
       "output_type": "stream",
       "stream": "stdout",
       "text": [
        "\n",
        "cannot concatenate 'str' and 'NoneType' objects\n",
        "cannot concatenate 'str' and 'NoneType' objects\n",
        "cannot concatenate 'str' and 'NoneType' objects\n",
        "cannot concatenate 'str' and 'NoneType' objects\n",
        "cannot concatenate 'str' and 'NoneType' objects\n",
        "cannot concatenate 'str' and 'NoneType' objects"
       ]
      },
      {
       "output_type": "stream",
       "stream": "stdout",
       "text": [
        "\n",
        "cannot concatenate 'str' and 'NoneType' objects"
       ]
      },
      {
       "output_type": "stream",
       "stream": "stdout",
       "text": [
        "\n",
        "cannot concatenate 'str' and 'NoneType' objects"
       ]
      },
      {
       "output_type": "stream",
       "stream": "stdout",
       "text": [
        "\n",
        "cannot concatenate 'str' and 'NoneType' objects\n",
        "cannot concatenate 'str' and 'NoneType' objects\n",
        "cannot concatenate 'str' and 'NoneType' objects\n",
        "cannot concatenate 'str' and 'NoneType' objects\n",
        "cannot concatenate 'str' and 'NoneType' objects\n",
        "cannot concatenate 'str' and 'NoneType' objects"
       ]
      },
      {
       "output_type": "stream",
       "stream": "stdout",
       "text": [
        "\n",
        "cannot concatenate 'str' and 'NoneType' objects"
       ]
      },
      {
       "output_type": "stream",
       "stream": "stdout",
       "text": [
        "\n",
        "cannot concatenate 'str' and 'NoneType' objects\n",
        "cannot concatenate 'str' and 'NoneType' objects\n",
        "cannot concatenate 'str' and 'NoneType' objects\n",
        "cannot concatenate 'str' and 'NoneType' objects\n",
        "cannot concatenate 'str' and 'NoneType' objects\n",
        "cannot concatenate 'str' and 'NoneType' objects\n",
        "cannot concatenate 'str' and 'NoneType' objects"
       ]
      },
      {
       "output_type": "stream",
       "stream": "stdout",
       "text": [
        "\n",
        "cannot concatenate 'str' and 'NoneType' objects\n",
        "cannot concatenate 'str' and 'NoneType' objects"
       ]
      },
      {
       "output_type": "stream",
       "stream": "stdout",
       "text": [
        "\n",
        "cannot concatenate 'str' and 'NoneType' objects"
       ]
      },
      {
       "output_type": "stream",
       "stream": "stdout",
       "text": [
        "\n",
        "cannot concatenate 'str' and 'NoneType' objects\n",
        "cannot concatenate 'str' and 'NoneType' objects\n",
        "cannot concatenate 'str' and 'NoneType' objects\n",
        "cannot concatenate 'str' and 'NoneType' objects\n",
        "cannot concatenate 'str' and 'NoneType' objects\n",
        "cannot concatenate 'str' and 'NoneType' objects"
       ]
      },
      {
       "output_type": "stream",
       "stream": "stdout",
       "text": [
        "\n",
        "cannot concatenate 'str' and 'NoneType' objects"
       ]
      },
      {
       "output_type": "stream",
       "stream": "stdout",
       "text": [
        "\n",
        "cannot concatenate 'str' and 'NoneType' objects"
       ]
      },
      {
       "output_type": "stream",
       "stream": "stdout",
       "text": [
        "\n",
        "cannot concatenate 'str' and 'NoneType' objects"
       ]
      },
      {
       "output_type": "stream",
       "stream": "stdout",
       "text": [
        "\n",
        "cannot concatenate 'str' and 'NoneType' objects\n",
        "cannot concatenate 'str' and 'NoneType' objects"
       ]
      },
      {
       "output_type": "stream",
       "stream": "stdout",
       "text": [
        "\n",
        "cannot concatenate 'str' and 'NoneType' objects"
       ]
      },
      {
       "output_type": "stream",
       "stream": "stdout",
       "text": [
        "\n",
        "cannot concatenate 'str' and 'NoneType' objects"
       ]
      },
      {
       "output_type": "stream",
       "stream": "stdout",
       "text": [
        "\n",
        "cannot concatenate 'str' and 'NoneType' objects\n",
        "cannot concatenate 'str' and 'NoneType' objects"
       ]
      },
      {
       "output_type": "stream",
       "stream": "stdout",
       "text": [
        "\n",
        "cannot concatenate 'str' and 'NoneType' objects"
       ]
      },
      {
       "output_type": "stream",
       "stream": "stdout",
       "text": [
        "\n",
        "cannot concatenate 'str' and 'NoneType' objects\n",
        "cannot concatenate 'str' and 'NoneType' objects\n",
        "cannot concatenate 'str' and 'NoneType' objects\n",
        "cannot concatenate 'str' and 'NoneType' objects\n",
        "cannot concatenate 'str' and 'NoneType' objects\n",
        "cannot concatenate 'str' and 'NoneType' objects\n",
        "cannot concatenate 'str' and 'NoneType' objects"
       ]
      },
      {
       "output_type": "stream",
       "stream": "stdout",
       "text": [
        "\n",
        "cannot concatenate 'str' and 'NoneType' objects"
       ]
      },
      {
       "output_type": "stream",
       "stream": "stdout",
       "text": [
        "\n",
        "cannot concatenate 'str' and 'NoneType' objects"
       ]
      },
      {
       "output_type": "stream",
       "stream": "stdout",
       "text": [
        "\n",
        "cannot concatenate 'str' and 'NoneType' objects"
       ]
      },
      {
       "output_type": "stream",
       "stream": "stdout",
       "text": [
        "\n",
        "cannot concatenate 'str' and 'NoneType' objects"
       ]
      },
      {
       "output_type": "stream",
       "stream": "stdout",
       "text": [
        "\n",
        "cannot concatenate 'str' and 'NoneType' objects"
       ]
      },
      {
       "output_type": "stream",
       "stream": "stdout",
       "text": [
        "\n",
        "cannot concatenate 'str' and 'NoneType' objects"
       ]
      },
      {
       "output_type": "stream",
       "stream": "stdout",
       "text": [
        "\n",
        "cannot concatenate 'str' and 'NoneType' objects\n",
        "cannot concatenate 'str' and 'NoneType' objects\n",
        "cannot concatenate 'str' and 'NoneType' objects\n",
        "cannot concatenate 'str' and 'NoneType' objects\n",
        "cannot concatenate 'str' and 'NoneType' objects\n",
        "cannot concatenate 'str' and 'NoneType' objects"
       ]
      },
      {
       "output_type": "stream",
       "stream": "stdout",
       "text": [
        "\n",
        "cannot concatenate 'str' and 'NoneType' objects\n",
        "cannot concatenate 'str' and 'NoneType' objects\n",
        "cannot concatenate 'str' and 'NoneType' objects\n",
        "cannot concatenate 'str' and 'NoneType' objects\n",
        "cannot concatenate 'str' and 'NoneType' objects\n",
        "cannot concatenate 'str' and 'NoneType' objects\n",
        "cannot concatenate 'str' and 'NoneType' objects"
       ]
      },
      {
       "output_type": "stream",
       "stream": "stdout",
       "text": [
        "\n",
        "cannot concatenate 'str' and 'NoneType' objects\n",
        "cannot concatenate 'str' and 'NoneType' objects\n",
        "cannot concatenate 'str' and 'NoneType' objects\n",
        "cannot concatenate 'str' and 'NoneType' objects\n",
        "cannot concatenate 'str' and 'NoneType' objects\n",
        "cannot concatenate 'str' and 'NoneType' objects\n",
        "cannot concatenate 'str' and 'NoneType' objects"
       ]
      },
      {
       "output_type": "stream",
       "stream": "stdout",
       "text": [
        "\n",
        "cannot concatenate 'str' and 'NoneType' objects\n",
        "cannot concatenate 'str' and 'NoneType' objects"
       ]
      },
      {
       "output_type": "stream",
       "stream": "stdout",
       "text": [
        "\n",
        "cannot concatenate 'str' and 'NoneType' objects\n",
        "cannot concatenate 'str' and 'NoneType' objects"
       ]
      },
      {
       "output_type": "stream",
       "stream": "stdout",
       "text": [
        "\n",
        "cannot concatenate 'str' and 'NoneType' objects"
       ]
      },
      {
       "output_type": "stream",
       "stream": "stdout",
       "text": [
        "\n",
        "cannot concatenate 'str' and 'NoneType' objects\n",
        "cannot concatenate 'str' and 'NoneType' objects"
       ]
      },
      {
       "output_type": "stream",
       "stream": "stdout",
       "text": [
        "\n",
        "cannot concatenate 'str' and 'NoneType' objects"
       ]
      },
      {
       "output_type": "stream",
       "stream": "stdout",
       "text": [
        "\n",
        "cannot concatenate 'str' and 'NoneType' objects"
       ]
      },
      {
       "output_type": "stream",
       "stream": "stdout",
       "text": [
        "\n",
        "cannot concatenate 'str' and 'NoneType' objects\n",
        "cannot concatenate 'str' and 'NoneType' objects"
       ]
      },
      {
       "output_type": "stream",
       "stream": "stdout",
       "text": [
        "\n",
        "cannot concatenate 'str' and 'NoneType' objects\n",
        "cannot concatenate 'str' and 'NoneType' objects"
       ]
      },
      {
       "output_type": "stream",
       "stream": "stdout",
       "text": [
        "\n",
        "cannot concatenate 'str' and 'NoneType' objects\n",
        "cannot concatenate 'str' and 'NoneType' objects"
       ]
      },
      {
       "output_type": "stream",
       "stream": "stdout",
       "text": [
        "\n",
        "cannot concatenate 'str' and 'NoneType' objects\n",
        "cannot concatenate 'str' and 'NoneType' objects"
       ]
      },
      {
       "output_type": "stream",
       "stream": "stdout",
       "text": [
        "\n",
        "cannot concatenate 'str' and 'NoneType' objects\n",
        "cannot concatenate 'str' and 'NoneType' objects"
       ]
      },
      {
       "output_type": "stream",
       "stream": "stdout",
       "text": [
        "\n",
        "cannot concatenate 'str' and 'NoneType' objects\n",
        "cannot concatenate 'str' and 'NoneType' objects"
       ]
      },
      {
       "output_type": "stream",
       "stream": "stdout",
       "text": [
        "\n",
        "cannot concatenate 'str' and 'NoneType' objects\n",
        "cannot concatenate 'str' and 'NoneType' objects"
       ]
      },
      {
       "ename": "ValueError",
       "evalue": "Length of values does not match length of index",
       "output_type": "pyerr",
       "traceback": [
        "\u001b[1;31m---------------------------------------------------------------------------\u001b[0m\n\u001b[1;31mValueError\u001b[0m                                Traceback (most recent call last)",
        "\u001b[1;32m<ipython-input-2-379b463cc4b7>\u001b[0m in \u001b[0;36m<module>\u001b[1;34m()\u001b[0m\n\u001b[1;32m----> 1\u001b[1;33m \u001b[0mfiercebiotech\u001b[0m\u001b[1;33m.\u001b[0m\u001b[0mextract_historic_fierce_biotech_headlines\u001b[0m\u001b[1;33m(\u001b[0m\u001b[1;33m)\u001b[0m\u001b[1;33m\u001b[0m\u001b[0m\n\u001b[0m",
        "\u001b[1;32mC:\\Dropbox\\Vipin_Vishal_Jose\\finance\\scraping\\fiercebiotech.py\u001b[0m in \u001b[0;36mextract_historic_fierce_biotech_headlines\u001b[1;34m(snooze)\u001b[0m\n\u001b[0;32m     37\u001b[0m         \u001b[0mdf\u001b[0m \u001b[1;33m=\u001b[0m \u001b[0mpd\u001b[0m\u001b[1;33m.\u001b[0m\u001b[0mDataFrame\u001b[0m\u001b[1;33m(\u001b[0m\u001b[0mcolumns\u001b[0m\u001b[1;33m=\u001b[0m\u001b[1;33m[\u001b[0m\u001b[1;34m'date'\u001b[0m\u001b[1;33m,\u001b[0m\u001b[1;34m'headline'\u001b[0m\u001b[1;33m,\u001b[0m\u001b[1;34m'abstract'\u001b[0m\u001b[1;33m,\u001b[0m\u001b[1;34m'author'\u001b[0m\u001b[1;33m,\u001b[0m\u001b[1;34m'url'\u001b[0m\u001b[1;33m]\u001b[0m\u001b[1;33m,\u001b[0m\u001b[0mindex\u001b[0m\u001b[1;33m=\u001b[0m\u001b[1;33m[\u001b[0m\u001b[0mx\u001b[0m \u001b[1;32mfor\u001b[0m \u001b[0mx\u001b[0m \u001b[1;32min\u001b[0m \u001b[0mxrange\u001b[0m\u001b[1;33m(\u001b[0m\u001b[1;36m0\u001b[0m\u001b[1;33m,\u001b[0m\u001b[0mlen\u001b[0m\u001b[1;33m(\u001b[0m\u001b[0mdate_list\u001b[0m\u001b[1;33m)\u001b[0m\u001b[1;33m)\u001b[0m\u001b[1;33m]\u001b[0m\u001b[1;33m)\u001b[0m\u001b[1;33m\u001b[0m\u001b[0m\n\u001b[0;32m     38\u001b[0m         \u001b[0mdf\u001b[0m\u001b[1;33m[\u001b[0m\u001b[1;34m'date'\u001b[0m\u001b[1;33m]\u001b[0m \u001b[1;33m=\u001b[0m \u001b[0mdate_list\u001b[0m\u001b[1;33m\u001b[0m\u001b[0m\n\u001b[1;32m---> 39\u001b[1;33m         \u001b[0mdf\u001b[0m\u001b[1;33m[\u001b[0m\u001b[1;34m'headline'\u001b[0m\u001b[1;33m]\u001b[0m \u001b[1;33m=\u001b[0m \u001b[0mheadline_list\u001b[0m\u001b[1;33m\u001b[0m\u001b[0m\n\u001b[0m\u001b[0;32m     40\u001b[0m         \u001b[0mdf\u001b[0m\u001b[1;33m[\u001b[0m\u001b[1;34m'abstract'\u001b[0m\u001b[1;33m]\u001b[0m \u001b[1;33m=\u001b[0m \u001b[0mabstract_list\u001b[0m\u001b[1;33m\u001b[0m\u001b[0m\n\u001b[0;32m     41\u001b[0m         \u001b[0mdf\u001b[0m\u001b[1;33m[\u001b[0m\u001b[1;34m'author'\u001b[0m\u001b[1;33m]\u001b[0m \u001b[1;33m=\u001b[0m \u001b[0mauthor_name_list\u001b[0m\u001b[1;33m\u001b[0m\u001b[0m\n",
        "\u001b[1;32mC:\\Users\\Vipin\\Anaconda\\lib\\site-packages\\pandas\\core\\frame.pyc\u001b[0m in \u001b[0;36m__setitem__\u001b[1;34m(self, key, value)\u001b[0m\n\u001b[0;32m   1861\u001b[0m         \u001b[1;32melse\u001b[0m\u001b[1;33m:\u001b[0m\u001b[1;33m\u001b[0m\u001b[0m\n\u001b[0;32m   1862\u001b[0m             \u001b[1;31m# set column\u001b[0m\u001b[1;33m\u001b[0m\u001b[1;33m\u001b[0m\u001b[0m\n\u001b[1;32m-> 1863\u001b[1;33m             \u001b[0mself\u001b[0m\u001b[1;33m.\u001b[0m\u001b[0m_set_item\u001b[0m\u001b[1;33m(\u001b[0m\u001b[0mkey\u001b[0m\u001b[1;33m,\u001b[0m \u001b[0mvalue\u001b[0m\u001b[1;33m)\u001b[0m\u001b[1;33m\u001b[0m\u001b[0m\n\u001b[0m\u001b[0;32m   1864\u001b[0m \u001b[1;33m\u001b[0m\u001b[0m\n\u001b[0;32m   1865\u001b[0m     \u001b[1;32mdef\u001b[0m \u001b[0m_setitem_slice\u001b[0m\u001b[1;33m(\u001b[0m\u001b[0mself\u001b[0m\u001b[1;33m,\u001b[0m \u001b[0mkey\u001b[0m\u001b[1;33m,\u001b[0m \u001b[0mvalue\u001b[0m\u001b[1;33m)\u001b[0m\u001b[1;33m:\u001b[0m\u001b[1;33m\u001b[0m\u001b[0m\n",
        "\u001b[1;32mC:\\Users\\Vipin\\Anaconda\\lib\\site-packages\\pandas\\core\\frame.pyc\u001b[0m in \u001b[0;36m_set_item\u001b[1;34m(self, key, value)\u001b[0m\n\u001b[0;32m   1937\u001b[0m         \u001b[0mis_existing\u001b[0m \u001b[1;33m=\u001b[0m \u001b[0mkey\u001b[0m \u001b[1;32min\u001b[0m \u001b[0mself\u001b[0m\u001b[1;33m.\u001b[0m\u001b[0mcolumns\u001b[0m\u001b[1;33m\u001b[0m\u001b[0m\n\u001b[0;32m   1938\u001b[0m         \u001b[0mself\u001b[0m\u001b[1;33m.\u001b[0m\u001b[0m_ensure_valid_index\u001b[0m\u001b[1;33m(\u001b[0m\u001b[0mvalue\u001b[0m\u001b[1;33m)\u001b[0m\u001b[1;33m\u001b[0m\u001b[0m\n\u001b[1;32m-> 1939\u001b[1;33m         \u001b[0mvalue\u001b[0m \u001b[1;33m=\u001b[0m \u001b[0mself\u001b[0m\u001b[1;33m.\u001b[0m\u001b[0m_sanitize_column\u001b[0m\u001b[1;33m(\u001b[0m\u001b[0mkey\u001b[0m\u001b[1;33m,\u001b[0m \u001b[0mvalue\u001b[0m\u001b[1;33m)\u001b[0m\u001b[1;33m\u001b[0m\u001b[0m\n\u001b[0m\u001b[0;32m   1940\u001b[0m         \u001b[0mNDFrame\u001b[0m\u001b[1;33m.\u001b[0m\u001b[0m_set_item\u001b[0m\u001b[1;33m(\u001b[0m\u001b[0mself\u001b[0m\u001b[1;33m,\u001b[0m \u001b[0mkey\u001b[0m\u001b[1;33m,\u001b[0m \u001b[0mvalue\u001b[0m\u001b[1;33m)\u001b[0m\u001b[1;33m\u001b[0m\u001b[0m\n\u001b[0;32m   1941\u001b[0m \u001b[1;33m\u001b[0m\u001b[0m\n",
        "\u001b[1;32mC:\\Users\\Vipin\\Anaconda\\lib\\site-packages\\pandas\\core\\frame.pyc\u001b[0m in \u001b[0;36m_sanitize_column\u001b[1;34m(self, key, value)\u001b[0m\n\u001b[0;32m   1987\u001b[0m         \u001b[1;32melif\u001b[0m \u001b[0misinstance\u001b[0m\u001b[1;33m(\u001b[0m\u001b[0mvalue\u001b[0m\u001b[1;33m,\u001b[0m \u001b[0mIndex\u001b[0m\u001b[1;33m)\u001b[0m \u001b[1;32mor\u001b[0m \u001b[0m_is_sequence\u001b[0m\u001b[1;33m(\u001b[0m\u001b[0mvalue\u001b[0m\u001b[1;33m)\u001b[0m\u001b[1;33m:\u001b[0m\u001b[1;33m\u001b[0m\u001b[0m\n\u001b[0;32m   1988\u001b[0m             \u001b[1;32mif\u001b[0m \u001b[0mlen\u001b[0m\u001b[1;33m(\u001b[0m\u001b[0mvalue\u001b[0m\u001b[1;33m)\u001b[0m \u001b[1;33m!=\u001b[0m \u001b[0mlen\u001b[0m\u001b[1;33m(\u001b[0m\u001b[0mself\u001b[0m\u001b[1;33m.\u001b[0m\u001b[0mindex\u001b[0m\u001b[1;33m)\u001b[0m\u001b[1;33m:\u001b[0m\u001b[1;33m\u001b[0m\u001b[0m\n\u001b[1;32m-> 1989\u001b[1;33m                 raise ValueError('Length of values does not match length of '\n\u001b[0m\u001b[0;32m   1990\u001b[0m                                  'index')\n\u001b[0;32m   1991\u001b[0m \u001b[1;33m\u001b[0m\u001b[0m\n",
        "\u001b[1;31mValueError\u001b[0m: Length of values does not match length of index"
       ]
      },
      {
       "output_type": "stream",
       "stream": "stdout",
       "text": [
        "\n",
        "cannot concatenate 'str' and 'NoneType' objects\n"
       ]
      }
     ],
     "prompt_number": 2
    },
    {
     "cell_type": "code",
     "collapsed": false,
     "input": [],
     "language": "python",
     "metadata": {},
     "outputs": [
      {
       "ename": "ImportError",
       "evalue": "No module named pyOpenSSL",
       "output_type": "pyerr",
       "traceback": [
        "\u001b[1;31m---------------------------------------------------------------------------\u001b[0m\n\u001b[1;31mImportError\u001b[0m                               Traceback (most recent call last)",
        "\u001b[1;32m<ipython-input-3-f937da48131f>\u001b[0m in \u001b[0;36m<module>\u001b[1;34m()\u001b[0m\n\u001b[1;32m----> 1\u001b[1;33m \u001b[1;32mimport\u001b[0m \u001b[0mpyOpenSSL\u001b[0m\u001b[1;33m\u001b[0m\u001b[0m\n\u001b[0m",
        "\u001b[1;31mImportError\u001b[0m: No module named pyOpenSSL"
       ]
      }
     ],
     "prompt_number": 3
    },
    {
     "cell_type": "code",
     "collapsed": false,
     "input": [],
     "language": "python",
     "metadata": {},
     "outputs": []
    }
   ],
   "metadata": {}
  }
 ]
}